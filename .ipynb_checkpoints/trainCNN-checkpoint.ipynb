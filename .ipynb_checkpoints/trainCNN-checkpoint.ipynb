{
 "cells": [
  {
   "cell_type": "code",
   "execution_count": 62,
   "id": "a6dc5d7d",
   "metadata": {},
   "outputs": [],
   "source": [
    "import tensorflow as tf\n",
    "from tensorflow import keras\n",
    "from keras.models import Sequential\n",
    "from keras.layers import Activation, Dense, Flatten, BatchNormalization, Conv2D, MaxPool2D, Dropout\n",
    "from keras.optimizers import Adam, SGD, RMSprop\n",
    "from keras.metrics import categorical_crossentropy\n",
    "from keras.preprocessing.image import ImageDataGenerator\n",
    "import itertools\n",
    "import random\n",
    "import warnings\n",
    "import numpy as np\n",
    "import cv2\n",
    "from keras.callbacks import ReduceLROnPlateau\n",
    "from keras.callbacks import ModelCheckpoint, EarlyStopping\n",
    "import matplotlib.pyplot as plt\n",
    "warnings.simplefilter(action='ignore', category=FutureWarning)"
   ]
  },
  {
   "cell_type": "code",
   "execution_count": 69,
   "id": "3bce3b46",
   "metadata": {},
   "outputs": [
    {
     "name": "stdout",
     "output_type": "stream",
     "text": [
      "Found 5417 images belonging to 10 classes.\n",
      "Found 400 images belonging to 10 classes.\n"
     ]
    },
    {
     "name": "stderr",
     "output_type": "stream",
     "text": [
      "Clipping input data to the valid range for imshow with RGB data ([0..1] for floats or [0..255] for integers).\n",
      "Clipping input data to the valid range for imshow with RGB data ([0..1] for floats or [0..255] for integers).\n",
      "Clipping input data to the valid range for imshow with RGB data ([0..1] for floats or [0..255] for integers).\n",
      "Clipping input data to the valid range for imshow with RGB data ([0..1] for floats or [0..255] for integers).\n",
      "Clipping input data to the valid range for imshow with RGB data ([0..1] for floats or [0..255] for integers).\n",
      "Clipping input data to the valid range for imshow with RGB data ([0..1] for floats or [0..255] for integers).\n",
      "Clipping input data to the valid range for imshow with RGB data ([0..1] for floats or [0..255] for integers).\n",
      "Clipping input data to the valid range for imshow with RGB data ([0..1] for floats or [0..255] for integers).\n",
      "Clipping input data to the valid range for imshow with RGB data ([0..1] for floats or [0..255] for integers).\n",
      "Clipping input data to the valid range for imshow with RGB data ([0..1] for floats or [0..255] for integers).\n"
     ]
    },
    {
     "data": {
      "image/png": "[encoded data removed]",
      "text/plain": [
       "<Figure size 3000x2000 with 10 Axes>"
      ]
     },
     "metadata": {},
     "output_type": "display_data"
    },
    {
     "name": "stdout",
     "output_type": "stream",
     "text": [
      "(10, 64, 64, 3)\n",
      "[[0. 0. 0. 0. 1. 0. 0. 0. 0. 0.]\n",
      " [0. 0. 0. 0. 0. 0. 0. 0. 1. 0.]\n",
      " [0. 0. 0. 0. 1. 0. 0. 0. 0. 0.]\n",
      " [0. 0. 0. 0. 1. 0. 0. 0. 0. 0.]\n",
      " [0. 0. 0. 1. 0. 0. 0. 0. 0. 0.]\n",
      " [1. 0. 0. 0. 0. 0. 0. 0. 0. 0.]\n",
      " [0. 0. 0. 0. 0. 0. 0. 0. 0. 1.]\n",
      " [0. 0. 0. 0. 0. 1. 0. 0. 0. 0.]\n",
      " [0. 0. 0. 1. 0. 0. 0. 0. 0. 0.]\n",
      " [0. 0. 0. 0. 0. 1. 0. 0. 0. 0.]]\n"
     ]
    }
   ],
   "source": [
    "train_path = r'E:\\VIT\\5 sem\\CSE3016 - Computer Graphics & Multimedia\\project\\Sign Language Interpreter (Final)\\gesture\\train'\n",
    "test_path = r'E:\\VIT\\5 sem\\CSE3016 - Computer Graphics & Multimedia\\project\\Sign Language Interpreter (Final)\\gesture\\test'\n",
    "\n",
    "# TESTING OF ONLY ONE IMAGE\n",
    "\n",
    "# train_path = r'E:\\VIT\\5 sem\\CSE3016 - Computer Graphics & Multimedia\\project\\data_flair_code\\gesture\\img_train'\n",
    "# test_path = r'E:\\VIT\\5 sem\\CSE3016 - Computer Graphics & Multimedia\\project\\data_flair_code\\gesture\\img_test'\n",
    "\n",
    "train_batches = ImageDataGenerator(preprocessing_function=tf.keras.applications.vgg16.preprocess_input).flow_from_directory(directory=train_path, target_size=(64,64), class_mode='categorical', batch_size=10,shuffle=True)\n",
    "test_batches = ImageDataGenerator(preprocessing_function=tf.keras.applications.vgg16.preprocess_input).flow_from_directory(directory=test_path, target_size=(64,64), class_mode='categorical', batch_size=10, shuffle=True)\n",
    "\n",
    "imgs, labels = next(train_batches)\n",
    "\n",
    "\n",
    "#Plotting the images...\n",
    "def plotImages(images_arr):\n",
    "    fig, axes = plt.subplots(1, 10, figsize=(30,20))\n",
    "    axes = axes.flatten()\n",
    "    for img, ax in zip( images_arr, axes):\n",
    "        img = cv2.cvtColor(img, cv2.COLOR_BGR2RGB)\n",
    "        ax.imshow(img)\n",
    "        ax.axis('off')\n",
    "    plt.tight_layout()\n",
    "    plt.show()\n",
    "\n",
    "\n",
    "plotImages(imgs)\n",
    "print(imgs.shape)\n",
    "print(labels)"
   ]
  },
  {
   "cell_type": "code",
   "execution_count": 70,
   "id": "72ae34d6",
   "metadata": {},
   "outputs": [
    {
     "name": "stdout",
     "output_type": "stream",
     "text": [
      "Model: \"sequential_9\"\n",
      "_________________________________________________________________\n",
      " Layer (type)                Output Shape              Param #   \n",
      "=================================================================\n",
      " conv2d_27 (Conv2D)          (None, 62, 62, 32)        896       \n",
      "                                                                 \n",
      " max_pooling2d_27 (MaxPoolin  (None, 31, 31, 32)       0         \n",
      " g2D)                                                            \n",
      "                                                                 \n",
      " conv2d_28 (Conv2D)          (None, 31, 31, 64)        18496     \n",
      "                                                                 \n",
      " max_pooling2d_28 (MaxPoolin  (None, 15, 15, 64)       0         \n",
      " g2D)                                                            \n",
      "                                                                 \n",
      " conv2d_29 (Conv2D)          (None, 13, 13, 128)       73856     \n",
      "                                                                 \n",
      " max_pooling2d_29 (MaxPoolin  (None, 6, 6, 128)        0         \n",
      " g2D)                                                            \n",
      "                                                                 \n",
      " flatten_9 (Flatten)         (None, 4608)              0         \n",
      "                                                                 \n",
      " dense_36 (Dense)            (None, 64)                294976    \n",
      "                                                                 \n",
      " dense_37 (Dense)            (None, 128)               8320      \n",
      "                                                                 \n",
      " dropout_18 (Dropout)        (None, 128)               0         \n",
      "                                                                 \n",
      " dense_38 (Dense)            (None, 128)               16512     \n",
      "                                                                 \n",
      " dropout_19 (Dropout)        (None, 128)               0         \n",
      "                                                                 \n",
      " dense_39 (Dense)            (None, 10)                1290      \n",
      "                                                                 \n",
      "=================================================================\n",
      "Total params: 414,346\n",
      "Trainable params: 414,346\n",
      "Non-trainable params: 0\n",
      "_________________________________________________________________\n"
     ]
    }
   ],
   "source": [
    "model = Sequential()\n",
    "\n",
    "model.add(Conv2D(filters=32, kernel_size=(3, 3), activation='relu', input_shape=(64,64,3)))\n",
    "model.add(MaxPool2D(pool_size=(2, 2), strides=2))\n",
    "\n",
    "model.add(Conv2D(filters=64, kernel_size=(3, 3), activation='relu', padding = 'same'))\n",
    "model.add(MaxPool2D(pool_size=(2, 2), strides=2))\n",
    "\n",
    "model.add(Conv2D(filters=128, kernel_size=(3, 3), activation='relu', padding = 'valid'))\n",
    "model.add(MaxPool2D(pool_size=(2, 2), strides=2))\n",
    "\n",
    "model.add(Flatten())\n",
    "\n",
    "model.add(Dense(64,activation =\"relu\"))\n",
    "model.add(Dense(128,activation =\"relu\"))\n",
    "model.add(Dropout(0.2))\n",
    "model.add(Dense(128,activation =\"relu\"))\n",
    "model.add(Dropout(0.3))\n",
    "model.add(Dense(10,activation =\"softmax\"))\n",
    "\n",
    "model.summary()"
   ]
  },
  {
   "cell_type": "code",
   "execution_count": 71,
   "id": "1f0d7bdd",
   "metadata": {},
   "outputs": [],
   "source": [
    "# model.compile(optimizer=Adam(learning_rate=0.001), loss='categorical_crossentropy', metrics=['accuracy'])\n",
    "# reduce_lr = ReduceLROnPlateau(monitor='val_loss', factor=0.2, patience=1, min_lr=0.0001)\n",
    "# early_stop = EarlyStopping(monitor='val_loss', min_delta=0, patience=2, verbose=0, mode='auto')\n",
    "\n",
    "\n",
    "\n",
    "model.compile(optimizer=SGD(learning_rate=0.001), loss='categorical_crossentropy', metrics=['accuracy'])\n",
    "# model.compile(optimizer=RMSprop(learning_rate=0.001), loss='categorical_crossentropy', metrics=['accuracy'])\n",
    "reduce_lr = ReduceLROnPlateau(monitor='val_loss', factor=0.2, patience=1, min_lr=0.05)\n",
    "early_stop = EarlyStopping(monitor='val_loss', min_delta=0, patience=2, verbose=0, mode='auto')"
   ]
  },
  {
   "cell_type": "code",
   "execution_count": 72,
   "id": "7b4cfa23",
   "metadata": {
    "scrolled": false
   },
   "outputs": [
    {
     "name": "stdout",
     "output_type": "stream",
     "text": [
      "Epoch 1/20\n",
      "542/542 [==============================] - 26s 46ms/step - loss: 0.6685 - accuracy: 0.8191 - val_loss: 1.9497 - val_accuracy: 0.4575\n",
      "Epoch 2/20\n",
      "542/542 [==============================] - 33s 61ms/step - loss: 0.1841 - accuracy: 0.9308 - val_loss: 1.9131 - val_accuracy: 0.5175\n",
      "Epoch 3/20\n",
      "542/542 [==============================] - 33s 60ms/step - loss: 0.1377 - accuracy: 0.9450 - val_loss: 2.1224 - val_accuracy: 0.5375\n",
      "Epoch 4/20\n",
      "542/542 [==============================] - 27s 50ms/step - loss: 0.1257 - accuracy: 0.9494 - val_loss: 2.0779 - val_accuracy: 0.5350\n",
      "Epoch 5/20\n",
      "542/542 [==============================] - 28s 53ms/step - loss: 0.1144 - accuracy: 0.9526 - val_loss: 2.0862 - val_accuracy: 0.5600\n",
      "Epoch 6/20\n",
      "542/542 [==============================] - 28s 51ms/step - loss: 0.1122 - accuracy: 0.9502 - val_loss: 2.1179 - val_accuracy: 0.5950\n",
      "Epoch 7/20\n",
      "542/542 [==============================] - 24s 45ms/step - loss: 0.1053 - accuracy: 0.9531 - val_loss: 2.0926 - val_accuracy: 0.5900\n",
      "Epoch 8/20\n",
      "542/542 [==============================] - 24s 43ms/step - loss: 0.1059 - accuracy: 0.9535 - val_loss: 2.3147 - val_accuracy: 0.5900\n",
      "Epoch 9/20\n",
      "542/542 [==============================] - 25s 46ms/step - loss: 0.1011 - accuracy: 0.9553 - val_loss: 2.1149 - val_accuracy: 0.6050\n",
      "Epoch 10/20\n",
      "542/542 [==============================] - 25s 47ms/step - loss: 0.1005 - accuracy: 0.9548 - val_loss: 2.2688 - val_accuracy: 0.6100\n",
      "Epoch 11/20\n",
      "542/542 [==============================] - 26s 48ms/step - loss: 0.0935 - accuracy: 0.9574 - val_loss: 2.4687 - val_accuracy: 0.6275\n",
      "Epoch 12/20\n",
      "542/542 [==============================] - 29s 53ms/step - loss: 0.0928 - accuracy: 0.9574 - val_loss: 2.2641 - val_accuracy: 0.6100\n",
      "Epoch 13/20\n",
      "542/542 [==============================] - 30s 56ms/step - loss: 0.0985 - accuracy: 0.9544 - val_loss: 2.4801 - val_accuracy: 0.6300\n",
      "Epoch 14/20\n",
      "542/542 [==============================] - 31s 57ms/step - loss: 0.0914 - accuracy: 0.9581 - val_loss: 2.6002 - val_accuracy: 0.6225\n",
      "Epoch 15/20\n",
      "542/542 [==============================] - 30s 56ms/step - loss: 0.0868 - accuracy: 0.9598 - val_loss: 2.4315 - val_accuracy: 0.6300\n",
      "Epoch 16/20\n",
      "542/542 [==============================] - 31s 57ms/step - loss: 0.0922 - accuracy: 0.9575 - val_loss: 2.7229 - val_accuracy: 0.5525\n",
      "Epoch 17/20\n",
      "542/542 [==============================] - 30s 56ms/step - loss: 0.0892 - accuracy: 0.9579 - val_loss: 2.5634 - val_accuracy: 0.5650\n",
      "Epoch 18/20\n",
      "542/542 [==============================] - 30s 56ms/step - loss: 0.0905 - accuracy: 0.9559 - val_loss: 2.3625 - val_accuracy: 0.5825\n",
      "Epoch 19/20\n",
      "542/542 [==============================] - 30s 56ms/step - loss: 0.0885 - accuracy: 0.9588 - val_loss: 2.3915 - val_accuracy: 0.6000\n",
      "Epoch 20/20\n",
      "542/542 [==============================] - 30s 55ms/step - loss: 0.0879 - accuracy: 0.9596 - val_loss: 2.4883 - val_accuracy: 0.6225\n"
     ]
    }
   ],
   "source": [
    "history2 = model.fit(train_batches, epochs=20,  validation_data = test_batches)#, checkpoint])\n"
   ]
  },
  {
   "cell_type": "code",
   "execution_count": 82,
   "id": "35398cb1",
   "metadata": {},
   "outputs": [
    {
     "name": "stdout",
     "output_type": "stream",
     "text": [
      "1/1 [==============================] - 0s 23ms/step - loss: 1.0764 - accuracy: 0.9000\n",
      "loss of 1.0763587951660156; accuracy of 89.99999761581421%\n"
     ]
    }
   ],
   "source": [
    "imgs, labels = next(test_batches) # For getting next batch of imgs...\n",
    "scores = model.evaluate(imgs, labels, verbose=1)\n",
    "print(f'{model.metrics_names[0]} of {scores[0]}; {model.metrics_names[1]} of {scores[1]*100}%')\n",
    "\n",
    "\n",
    "model.save('best_model.h5')"
   ]
  },
  {
   "cell_type": "code",
   "execution_count": 83,
   "id": "3b84aa97",
   "metadata": {
    "scrolled": true
   },
   "outputs": [
    {
     "name": "stderr",
     "output_type": "stream",
     "text": [
      "Clipping input data to the valid range for imshow with RGB data ([0..1] for floats or [0..255] for integers).\n"
     ]
    },
    {
     "name": "stdout",
     "output_type": "stream",
     "text": [
      "predictions on a small set of test data--\n",
      "\n",
      "Nine   Six   Five   Two   Nine   Nine   Nine   One   Seven   Nine   "
     ]
    },
    {
     "name": "stderr",
     "output_type": "stream",
     "text": [
      "Clipping input data to the valid range for imshow with RGB data ([0..1] for floats or [0..255] for integers).\n",
      "Clipping input data to the valid range for imshow with RGB data ([0..1] for floats or [0..255] for integers).\n",
      "Clipping input data to the valid range for imshow with RGB data ([0..1] for floats or [0..255] for integers).\n",
      "Clipping input data to the valid range for imshow with RGB data ([0..1] for floats or [0..255] for integers).\n",
      "Clipping input data to the valid range for imshow with RGB data ([0..1] for floats or [0..255] for integers).\n",
      "Clipping input data to the valid range for imshow with RGB data ([0..1] for floats or [0..255] for integers).\n",
      "Clipping input data to the valid range for imshow with RGB data ([0..1] for floats or [0..255] for integers).\n",
      "Clipping input data to the valid range for imshow with RGB data ([0..1] for floats or [0..255] for integers).\n",
      "Clipping input data to the valid range for imshow with RGB data ([0..1] for floats or [0..255] for integers).\n"
     ]
    },
    {
     "data": {
      "image/png": "[encoded data removed]",
      "text/plain": [
       "<Figure size 3000x2000 with 10 Axes>"
      ]
     },
     "metadata": {},
     "output_type": "display_data"
    },
    {
     "name": "stdout",
     "output_type": "stream",
     "text": [
      "Actual labels\n",
      "Nine   Six   Five   Four   Nine   Nine   Nine   One   Seven   Nine   (10, 64, 64, 3)\n"
     ]
    }
   ],
   "source": [
    "# imgs, labels = next(test_batches)\n",
    "\n",
    "# model = keras.models.load_model(r\"best_model.h5\")\n",
    "\n",
    "# scores = model.evaluate(imgs, labels, verbose=0)\n",
    "# print(f'{model.metrics_names[0]} of {scores[0]}; {model.metrics_names[1]} of {scores[1]*100}%')\n",
    "\n",
    "# model.summary()\n",
    "\n",
    "# scores #[loss, accuracy] on test data...\n",
    "# model.metrics_names\n",
    "\n",
    "\n",
    "word_dict = {0:'One',1:'Ten',2:'Two',3:'Three',4:'Four',5:'Five',6:'Six',7:'Seven',8:'Eight',9:'Nine'}\n",
    "\n",
    "predictions = model.predict(imgs, verbose=0)\n",
    "print(\"predictions on a small set of test data--\")\n",
    "print(\"\")\n",
    "for ind, i in enumerate(predictions):\n",
    "    print(word_dict[np.argmax(i)], end='   ')\n",
    "\n",
    "plotImages(imgs)\n",
    "print('Actual labels')\n",
    "for i in labels:\n",
    "    print(word_dict[np.argmax(i)], end='   ')\n",
    "\n",
    "print(imgs.shape)\n",
    "\n",
    "# history2.history"
   ]
  },
  {
   "cell_type": "code",
   "execution_count": null,
   "id": "1ccf74cf",
   "metadata": {},
   "outputs": [],
   "source": []
  }
 ],
 "metadata": {
  "kernelspec": {
   "display_name": "Python 3 (ipykernel)",
   "language": "python",
   "name": "python3"
  },
  "language_info": {
   "codemirror_mode": {
    "name": "ipython",
    "version": 3
   },
   "file_extension": ".py",
   "mimetype": "text/x-python",
   "name": "python",
   "nbconvert_exporter": "python",
   "pygments_lexer": "ipython3",
   "version": "3.8.5"
  }
 },
 "nbformat": 4,
 "nbformat_minor": 5
}
